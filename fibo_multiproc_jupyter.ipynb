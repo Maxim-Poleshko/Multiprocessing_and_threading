{
 "cells": [
  {
   "cell_type": "code",
   "execution_count": 40,
   "metadata": {},
   "outputs": [],
   "source": [
    "import time\n",
    "from concurrent.futures import ProcessPoolExecutor, ThreadPoolExecutor\n",
    "\n",
    "import matplotlib.pyplot as plt  # позволяет рисовать графики, выдает картинку\n",
    "import numpy as np\n",
    "%matplotlib inline"
   ]
  },
  {
   "cell_type": "code",
   "execution_count": 41,
   "metadata": {},
   "outputs": [],
   "source": [
    "def visualize_runtimes(results, title):\n",
    "    start, stop = np.array(results).T\n",
    "    plt.barh(range(len(start)), stop - start, left=start)  # настраивает координаты, которые будет прорисовывать\n",
    "    plt.grid(axis='x')\n",
    "    plt.ylabel(\"Tasks\")  # вертикально отображ. кол-во тасков, один за одним, которые выполнялись\n",
    "    plt.xlabel(\"Seconds\")  # горизонтально отображ. время за которое они выполнялись\n",
    "    plt.title(title)\n",
    "    return stop[-1] - start[0]\n",
    "\n",
    "def multithreading(func, args, workers):  # Выполняет потоки\n",
    "    begin_time = time.time()\n",
    "    with ThreadPoolExecutor(\n",
    "            max_workers=workers) as executor:\n",
    "        # workers - кол-во потоков, которые будут запустить одновременно. Для распред. между ними задачу\n",
    "        res = executor.map(func, args, [begin_time for i in range(len(args))])\n",
    "        # для каждого выполнится executor, метод map добавит все результаты в общий список\n",
    "    return list(res)\n",
    "\n",
    "\n",
    "def multiprocessing(func, args, workers):  # Выполняет процессы\n",
    "    begin_time = time.time()\n",
    "    with ProcessPoolExecutor(max_workers=workers) as executor:\n",
    "        res = executor.map(func, args, [begin_time for i in range(len(args))])\n",
    "    return list(res)"
   ]
  },
  {
   "cell_type": "code",
   "execution_count": 43,
   "metadata": {},
   "outputs": [],
   "source": [
    "def calculate_fibo(number, base):\n",
    "    start = time.time() - base\n",
    "    try:\n",
    "        fibo = []\n",
    "        a, b = 1, 1\n",
    "        fibo.append(a)\n",
    "        for i in range(number - 1):\n",
    "            a, b = b, a + b\n",
    "            fibo.append(a)\n",
    "    except Exception as e:\n",
    "        print('ERROR: %s' % e)\n",
    "    stop = time.time() - base\n",
    "    return start, stop"
   ]
  },
  {
   "cell_type": "code",
   "execution_count": 50,
   "metadata": {},
   "outputs": [],
   "source": [
    "numbers = [25000, 40000, 80000]"
   ]
  },
  {
   "cell_type": "code",
   "execution_count": 51,
   "metadata": {},
   "outputs": [
    {
     "name": "stdout",
     "output_type": "stream",
     "text": [
      "695 ms ± 21.1 ms per loop (mean ± std. dev. of 7 runs, 1 loop each)\n"
     ]
    }
   ],
   "source": [
    "%timeit -n 1 [calculate_fibo(number, 2) for number in numbers]\n",
    "# каждый запуск calculate_fibo, запустит свой ThreadExecutor, передаст туда данные и покажет как долго он работал\n",
    "# %timeit - замеряет время работы скрипта(магический метод Jupyter)"
   ]
  },
  {
   "cell_type": "code",
   "execution_count": 52,
   "metadata": {},
   "outputs": [
    {
     "data": {
      "text/plain": [
       "0.759099006652832"
      ]
     },
     "execution_count": 52,
     "metadata": {},
     "output_type": "execute_result"
    },
    {
     "data": {
      "image/png": "[encoded data removed]",
      "text/plain": [
       "<Figure size 432x288 with 1 Axes>"
      ]
     },
     "metadata": {
      "needs_background": "light"
     },
     "output_type": "display_data"
    }
   ],
   "source": [
    "visualize_runtimes(multithreading(calculate_fibo, numbers, 10), \"Single Thread\")\n",
    "# 10 - указывается кол-во потоков\n",
    "# Задания которые приходили и сколько они выполнялись"
   ]
  }
 ],
 "metadata": {
  "kernelspec": {
   "display_name": "Python 3",
   "language": "python",
   "name": "python3"
  },
  "language_info": {
   "codemirror_mode": {
    "name": "ipython",
    "version": 3
   },
   "file_extension": ".py",
   "mimetype": "text/x-python",
   "name": "python",
   "nbconvert_exporter": "python",
   "pygments_lexer": "ipython3",
   "version": "3.7.1"
  }
 },
 "nbformat": 4,
 "nbformat_minor": 2
}
